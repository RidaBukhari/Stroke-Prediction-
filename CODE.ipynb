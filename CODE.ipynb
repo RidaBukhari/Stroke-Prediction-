{
  "cells": [
    {
      "attachments": {},
      "cell_type": "markdown",
      "metadata": {
        "id": "oRp6ivJ3qmnC"
      },
      "source": 
        "# Topic: Stroke Prediction using machine learning algorithms\n"
        " # Algorithms used:\n",
        "1. Decision Tree\n",
        "2. K-Neighbors\n",
        "\n",
        " \n",
        "\n"
      ]
    },
    {
      "cell_type": "markdown",
      "metadata": {
        "id": "u9UXaijeynLO"
      },
      "source": [
        "# Importing Libraries required."
      ]
    },
    {
      "cell_type": "code",
      "execution_count": null,
      "metadata": {
        "_cell_guid": "b1076dfc-b9ad-4769-8c92-a6c4dae69d19",
        "_uuid": "8f2839f25d086af736a60e9eeb907d3b93b6e0e5",
        "execution": {
          "iopub.execute_input": "2023-01-11T19:44:17.838504Z",
          "iopub.status.busy": "2023-01-11T19:44:17.838126Z",
          "iopub.status.idle": "2023-01-11T19:44:19.937747Z",
          "shell.execute_reply": "2023-01-11T19:44:19.936701Z",
          "shell.execute_reply.started": "2023-01-11T19:44:17.838454Z"
        },
        "id": "vqrfUsaGqmnG",
        "trusted": true
      },
      "outputs": [],
      "source": [
        "# Importing Libraries\n",
        "import numpy as np\n",
        "import pandas as pd\n",
        "import matplotlib as plt\n",
        "import seaborn as sns\n",
        "\n",
        "\n",
        "# Pre-processing\n",
        "from sklearn.preprocessing import StandardScaler\n",
        "from sklearn.preprocessing import LabelBinarizer, LabelEncoder, OrdinalEncoder\n",
        "from sklearn.model_selection import train_test_split\n",
        "from sklearn.metrics import classification_report, accuracy_score, confusion_matrix\n",
        "\n",
        "\n",
        "\n",
        "# Algorithms\n",
        "from sklearn.tree import DecisionTreeClassifier\n",
        "from sklearn.neighbors import KNeighborsClassifier"
      ]
    },
    {
      "cell_type": "markdown",
      "metadata": {
        "id": "8bJv7kxwyxrs"
      },
      "source": [
        "# Exploratory Data analysis"
      ]
    },
    {
      "cell_type": "code",
      "execution_count": null,
      "metadata": {
        "_cell_guid": "79c7e3d0-c299-4dcb-8224-4455121ee9b0",
        "_uuid": "d629ff2d2480ee46fbb7e2d37f6b5fab8052498a",
        "colab": {
          "base_uri": "https://localhost:8080/"
        },
        "execution": {
          "iopub.execute_input": "2023-01-11T19:44:23.800292Z",
          "iopub.status.busy": "2023-01-11T19:44:23.799858Z",
          "iopub.status.idle": "2023-01-11T19:44:23.824228Z",
          "shell.execute_reply": "2023-01-11T19:44:23.823168Z",
          "shell.execute_reply.started": "2023-01-11T19:44:23.800240Z"
        },
        "id": "knw51pegqmnI",
        "outputId": "508b3f8a-512b-478a-ba95-af2cc8095b91",
        "trusted": true
      },
      "outputs": [
        {
          "data": {
            "text/html": [
              "\n",
              "  <div id=\"df-80be3ad8-b347-489f-aee4-034453c14d99\">\n",
              "    <div class=\"colab-df-container\">\n",
              "      <div>\n",
              "<style scoped>\n",
              "    .dataframe tbody tr th:only-of-type {\n",
              "        vertical-align: middle;\n",
              "    }\n",
              "\n",
              "    .dataframe tbody tr th {\n",
              "        vertical-align: top;\n",
              "    }\n",
              "\n",
              "    .dataframe thead th {\n",
              "        text-align: right;\n",
              "    }\n",
              "</style>\n",
              "<table border=\"1\" class=\"dataframe\">\n",
              "  <thead>\n",
              "    <tr style=\"text-align: right;\">\n",
              "      <th></th>\n",
              "      <th>id</th>\n",
              "      <th>gender</th>\n",
              "      <th>age</th>\n",
              "      <th>hypertension</th>\n",
              "      <th>heart_disease</th>\n",
              "      <th>ever_married</th>\n",
              "      <th>work_type</th>\n",
              "      <th>Residence_type</th>\n",
              "      <th>avg_glucose_level</th>\n",
              "      <th>bmi</th>\n",
              "      <th>smoking_status</th>\n",
              "      <th>stroke</th>\n",
              "    </tr>\n",
              "  </thead>\n",
              "  <tbody>\n",
              "    <tr>\n",
              "      <th>0</th>\n",
              "      <td>9046</td>\n",
              "      <td>Male</td>\n",
              "      <td>67.0</td>\n",
              "      <td>0</td>\n",
              "      <td>1</td>\n",
              "      <td>Yes</td>\n",
              "      <td>Private</td>\n",
              "      <td>Urban</td>\n",
              "      <td>228.69</td>\n",
              "      <td>36.6</td>\n",
              "      <td>formerly smoked</td>\n",
              "      <td>1</td>\n",
              "    </tr>\n",
              "    <tr>\n",
              "      <th>1</th>\n",
              "      <td>51676</td>\n",
              "      <td>Female</td>\n",
              "      <td>61.0</td>\n",
              "      <td>0</td>\n",
              "      <td>0</td>\n",
              "      <td>Yes</td>\n",
              "      <td>Self-employed</td>\n",
              "      <td>Rural</td>\n",
              "      <td>202.21</td>\n",
              "      <td>NaN</td>\n",
              "      <td>never smoked</td>\n",
              "      <td>1</td>\n",
              "    </tr>\n",
              "    <tr>\n",
              "      <th>2</th>\n",
              "      <td>31112</td>\n",
              "      <td>Male</td>\n",
              "      <td>80.0</td>\n",
              "      <td>0</td>\n",
              "      <td>1</td>\n",
              "      <td>Yes</td>\n",
              "      <td>Private</td>\n",
              "      <td>Rural</td>\n",
              "      <td>105.92</td>\n",
              "      <td>32.5</td>\n",
              "      <td>never smoked</td>\n",
              "      <td>1</td>\n",
              "    </tr>\n",
              "    <tr>\n",
              "      <th>3</th>\n",
              "      <td>60182</td>\n",
              "      <td>Female</td>\n",
              "      <td>49.0</td>\n",
              "      <td>0</td>\n",
              "      <td>0</td>\n",
              "      <td>Yes</td>\n",
              "      <td>Private</td>\n",
              "      <td>Urban</td>\n",
              "      <td>171.23</td>\n",
              "      <td>34.4</td>\n",
              "      <td>smokes</td>\n",
              "      <td>1</td>\n",
              "    </tr>\n",
              "    <tr>\n",
              "      <th>4</th>\n",
              "      <td>1665</td>\n",
              "      <td>Female</td>\n",
              "      <td>79.0</td>\n",
              "      <td>1</td>\n",
              "      <td>0</td>\n",
              "      <td>Yes</td>\n",
              "      <td>Self-employed</td>\n",
              "      <td>Rural</td>\n",
              "      <td>174.12</td>\n",
              "      <td>24.0</td>\n",
              "      <td>never smoked</td>\n",
              "      <td>1</td>\n",
              "    </tr>\n",
              "  </tbody>\n",
              "</table>\n",
              "</div>\n",
              "      <button class=\"colab-df-convert\" onclick=\"convertToInteractive('df-80be3ad8-b347-489f-aee4-034453c14d99')\"\n",
              "              title=\"Convert this dataframe to an interactive table.\"\n",
              "              style=\"display:none;\">\n",
              "        \n",
              "  <svg xmlns=\"http://www.w3.org/2000/svg\" height=\"24px\"viewBox=\"0 0 24 24\"\n",
              "       width=\"24px\">\n",
              "    <path d=\"M0 0h24v24H0V0z\" fill=\"none\"/>\n",
              "    <path d=\"M18.56 5.44l.94 2.06.94-2.06 2.06-.94-2.06-.94-.94-2.06-.94 2.06-2.06.94zm-11 1L8.5 8.5l.94-2.06 2.06-.94-2.06-.94L8.5 2.5l-.94 2.06-2.06.94zm10 10l.94 2.06.94-2.06 2.06-.94-2.06-.94-.94-2.06-.94 2.06-2.06.94z\"/><path d=\"M17.41 7.96l-1.37-1.37c-.4-.4-.92-.59-1.43-.59-.52 0-1.04.2-1.43.59L10.3 9.45l-7.72 7.72c-.78.78-.78 2.05 0 2.83L4 21.41c.39.39.9.59 1.41.59.51 0 1.02-.2 1.41-.59l7.78-7.78 2.81-2.81c.8-.78.8-2.07 0-2.86zM5.41 20L4 18.59l7.72-7.72 1.47 1.35L5.41 20z\"/>\n",
              "  </svg>\n",
              "      </button>\n",
              "      \n",
              "  <style>\n",
              "    .colab-df-container {\n",
              "      display:flex;\n",
              "      flex-wrap:wrap;\n",
              "      gap: 12px;\n",
              "    }\n",
              "\n",
              "    .colab-df-convert {\n",
              "      background-color: #E8F0FE;\n",
              "      border: none;\n",
              "      border-radius: 50%;\n",
              "      cursor: pointer;\n",
              "      display: none;\n",
              "      fill: #1967D2;\n",
              "      height: 32px;\n",
              "      padding: 0 0 0 0;\n",
              "      width: 32px;\n",
              "    }\n",
              "\n",
              "    .colab-df-convert:hover {\n",
              "      background-color: #E2EBFA;\n",
              "      box-shadow: 0px 1px 2px rgba(60, 64, 67, 0.3), 0px 1px 3px 1px rgba(60, 64, 67, 0.15);\n",
              "      fill: #174EA6;\n",
              "    }\n",
              "\n",
              "    [theme=dark] .colab-df-convert {\n",
              "      background-color: #3B4455;\n",
              "      fill: #D2E3FC;\n",
              "    }\n",
              "\n",
              "    [theme=dark] .colab-df-convert:hover {\n",
              "      background-color: #434B5C;\n",
              "      box-shadow: 0px 1px 3px 1px rgba(0, 0, 0, 0.15);\n",
              "      filter: drop-shadow(0px 1px 2px rgba(0, 0, 0, 0.3));\n",
              "      fill: #FFFFFF;\n",
              "    }\n",
              "  </style>\n",
              "\n",
              "      <script>\n",
              "        const buttonEl =\n",
              "          document.querySelector('#df-80be3ad8-b347-489f-aee4-034453c14d99 button.colab-df-convert');\n",
              "        buttonEl.style.display =\n",
              "          google.colab.kernel.accessAllowed ? 'block' : 'none';\n",
              "\n",
              "        async function convertToInteractive(key) {\n",
              "          const element = document.querySelector('#df-80be3ad8-b347-489f-aee4-034453c14d99');\n",
              "          const dataTable =\n",
              "            await google.colab.kernel.invokeFunction('convertToInteractive',\n",
              "                                                     [key], {});\n",
              "          if (!dataTable) return;\n",
              "\n",
              "          const docLinkHtml = 'Like what you see? Visit the ' +\n",
              "            '<a target=\"_blank\" href=https://colab.research.google.com/notebooks/data_table.ipynb>data table notebook</a>'\n",
              "            + ' to learn more about interactive tables.';\n",
              "          element.innerHTML = '';\n",
              "          dataTable['output_type'] = 'display_data';\n",
              "          await google.colab.output.renderOutput(dataTable, element);\n",
              "          const docLink = document.createElement('div');\n",
              "          docLink.innerHTML = docLinkHtml;\n",
              "          element.appendChild(docLink);\n",
              "        }\n",
              "      </script>\n",
              "    </div>\n",
              "  </div>\n",
              "  "
            ],
            "text/plain": [
              "      id  gender   age  hypertension  heart_disease ever_married  \\\n",
              "0   9046    Male  67.0             0              1          Yes   \n",
              "1  51676  Female  61.0             0              0          Yes   \n",
              "2  31112    Male  80.0             0              1          Yes   \n",
              "3  60182  Female  49.0             0              0          Yes   \n",
              "4   1665  Female  79.0             1              0          Yes   \n",
              "\n",
              "       work_type Residence_type  avg_glucose_level   bmi   smoking_status  \\\n",
              "0        Private          Urban             228.69  36.6  formerly smoked   \n",
              "1  Self-employed          Rural             202.21   NaN     never smoked   \n",
              "2        Private          Rural             105.92  32.5     never smoked   \n",
              "3        Private          Urban             171.23  34.4           smokes   \n",
              "4  Self-employed          Rural             174.12  24.0     never smoked   \n",
              "\n",
              "   stroke  \n",
              "0       1  \n",
              "1       1  \n",
              "2       1  \n",
              "3       1  \n",
              "4       1  "
            ]
          },
          "execution_count": 2,
          "metadata": {},
          "output_type": "execute_result"
        }
      ],
      "source": [
        "df = pd.read_csv(\"Stroke-Dataset.csv\")\n",
        "df.head()"
      ]
    },
    {
      "cell_type": "code",
      "execution_count": null,
      "metadata": {
        "colab": {
          "base_uri": "https://localhost:8080/"
        },
        "id": "4v3KK2b2qmnL",
        "outputId": "efa76f67-a835-4e16-c84f-bf1569081de3",
        "trusted": true
      },
      "outputs": [
        {
          "name": "stdout",
          "output_type": "stream",
          "text": [
            "Null vals: 201\n",
            "id                     0\n",
            "gender                 0\n",
            "age                    0\n",
            "hypertension           0\n",
            "heart_disease          0\n",
            "ever_married           0\n",
            "work_type              0\n",
            "Residence_type         0\n",
            "avg_glucose_level      0\n",
            "bmi                  201\n",
            "smoking_status         0\n",
            "stroke                 0\n",
            "dtype: int64\n"
          ]
        }
      ],
      "source": [
        "print('Null vals:',df.isnull().sum().sum())\n",
        "print(df.isna().sum())"
      ]
    },
    {
      "cell_type": "code",
      "execution_count": null,
      "metadata": {
        "colab": {
          "base_uri": "https://localhost:8080/"
        },
        "id": "zmB0FdSOqmnL",
        "outputId": "d36124e7-8c91-4a39-d5d2-285e148d1064",
        "trusted": true
      },
      "outputs": [
        {
          "name": "stderr",
          "output_type": "stream",
          "text": [
            "<ipython-input-9-87b50bf9d45d>:2: FutureWarning: The default value of numeric_only in DataFrame.corr is deprecated. In a future version, it will default to False. Select only valid columns or specify the value of numeric_only to silence this warning.\n",
            "  corr = df.corr()\n"
          ]
        },
        {
          "data": {
            "text/plain": [
              "<Axes: >"
            ]
          },
          "execution_count": 9,
          "metadata": {},
          "output_type": "execute_result"
        },
        {
          "data": {
            "image/png": "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",
            "text/plain": [
              "<Figure size 1500x1000 with 2 Axes>"
            ]
          },
          "metadata": {},
          "output_type": "display_data"
        }
      ],
      "source": [
        "# Correlation Matrix\n",
        "corr = df.corr()\n",
        "plt.pyplot.subplots(figsize=(15,10))\n",
        "sns.heatmap(corr, xticklabels=corr.columns, yticklabels=corr.columns, annot=True, cmap = \"flare\")"
      ]
    },
    {
      "cell_type": "markdown",
      "metadata": {
        "id": "f1W0aiMNeJYW"
      },
      "source": [
        "# Data Pre-processing"
      ]
    },
    {
      "cell_type": "markdown",
      "metadata": {
        "id": "7qXKEf7kVSWB"
      },
      "source": [
        "## Data Cleaning:"
      ]
    },
    {
      "cell_type": "markdown",
      "metadata": {
        "id": "VecaVza8WGWH"
      },
      "source": [
        "Cleaning the dataset of any null values"
      ]
    },
    {
      "cell_type": "code",
      "execution_count": null,
      "metadata": {
        "colab": {
          "base_uri": "https://localhost:8080/"
        },
        "id": "klFhQews1ESz",
        "outputId": "f613a193-a37f-4927-9818-2b25534f3901"
      },
      "outputs": [
        {
          "name": "stdout",
          "output_type": "stream",
          "text": [
            "id                   0\n",
            "gender               0\n",
            "age                  0\n",
            "hypertension         0\n",
            "heart_disease        0\n",
            "ever_married         0\n",
            "work_type            0\n",
            "Residence_type       0\n",
            "avg_glucose_level    0\n",
            "bmi                  0\n",
            "smoking_status       0\n",
            "stroke               0\n",
            "dtype: int64\n"
          ]
        }
      ],
      "source": [
        "# fill null vlaues with average then remov the rest\n",
        "\n",
        "df.dropna(inplace=True)\n",
        "print(df.isna().sum())"
      ]
    },
    {
      "cell_type": "markdown",
      "metadata": {
        "id": "dNulgopwsBJz"
      },
      "source": [
        "Removing duplicates"
      ]
    },
    {
      "cell_type": "code",
      "execution_count": null,
      "metadata": {
        "colab": {
          "base_uri": "https://localhost:8080/"
        },
        "id": "9z5jSXtHVsW4",
        "outputId": "d7a9e9ff-c386-4b28-9ed8-09eb84dfc6e6"
      },
      "outputs": [
        {
          "name": "stdout",
          "output_type": "stream",
          "text": [
            "Duplicates:  0\n"
          ]
        }
      ],
      "source": [
        "print(\"Duplicates: \", df.duplicated().sum())"
      ]
    },
    {
      "cell_type": "code",
      "execution_count": null,
      "metadata": {
        "colab": {
          "base_uri": "https://localhost:8080/"
        },
        "id": "3lvV2ELvVs8n",
        "outputId": "66f579c1-68ea-48db-81f2-9610dd91fe8f"
      },
      "outputs": [
        {
          "name": "stdout",
          "output_type": "stream",
          "text": [
            "Duplicates:  0\n"
          ]
        }
      ],
      "source": [
        "df.drop_duplicates(inplace = True)\n",
        "print(\"Duplicates: \", df.duplicated().sum())"
      ]
    },
    {
      "cell_type": "markdown",
      "metadata": {
        "id": "gHHZT1VKVXqH"
      },
      "source": [
        "## Data Formating"
      ]
    },
    {
      "cell_type": "markdown",
      "metadata": {
        "id": "q0Nj339IFgO_"
      },
      "source": [
        "## **Encode the categorical variables:**\n"
      ]
    },
    {
      "cell_type": "code",
      "execution_count": null,
      "metadata": {
        "colab": {
          "base_uri": "https://localhost:8080/"
        },
        "execution": {
          "iopub.execute_input": "2022-01-07T18:50:40.241204Z",
          "iopub.status.busy": "2022-01-07T18:50:40.240435Z",
          "iopub.status.idle": "2022-01-07T18:50:40.258118Z",
          "shell.execute_reply": "2022-01-07T18:50:40.257136Z",
          "shell.execute_reply.started": "2022-01-07T18:50:40.241145Z"
        },
        "id": "kdOqFW0nPRry",
        "outputId": "4eeffcb2-16c9-4219-94f3-f0f4c346f7d3",
        "trusted": true
      },
      "outputs": [
        {
          "data": {
            "text/plain": [
              "id                   4909\n",
              "gender                  3\n",
              "age                   104\n",
              "hypertension            2\n",
              "heart_disease           2\n",
              "ever_married            2\n",
              "work_type               5\n",
              "Residence_type          2\n",
              "avg_glucose_level    3852\n",
              "bmi                   418\n",
              "smoking_status          4\n",
              "stroke                  2\n",
              "dtype: int64"
            ]
          },
          "execution_count": 14,
          "metadata": {},
          "output_type": "execute_result"
        }
      ],
      "source": [
        "df_uniques = df.nunique() \n",
        "df_uniques"
      ]
    },
    {
      "cell_type": "code",
      "execution_count": null,
      "metadata": {
        "colab": {
          "base_uri": "https://localhost:8080/"
        },
        "execution": {
          "iopub.execute_input": "2022-01-07T18:50:40.25974Z",
          "iopub.status.busy": "2022-01-07T18:50:40.259512Z",
          "iopub.status.idle": "2022-01-07T18:50:40.267935Z",
          "shell.execute_reply": "2022-01-07T18:50:40.266987Z",
          "shell.execute_reply.started": "2022-01-07T18:50:40.259713Z"
        },
        "id": "WwYhE3RBPfCb",
        "outputId": "dbb29d29-a58c-4736-862c-7a0cfbb2d1cf",
        "trusted": true
      },
      "outputs": [
        {
          "data": {
            "text/plain": [
              "['hypertension', 'heart_disease', 'ever_married', 'Residence_type', 'stroke']"
            ]
          },
          "execution_count": 15,
          "metadata": {},
          "output_type": "execute_result"
        }
      ],
      "source": [
        "binary_vals = list(df_uniques[df_uniques == 2].index) # Create a list for bin vales \n",
        "binary_vals"
      ]
    },
    {
      "cell_type": "code",
      "execution_count": null,
      "metadata": {
        "colab": {
          "base_uri": "https://localhost:8080/"
        },
        "execution": {
          "iopub.execute_input": "2022-01-07T18:50:40.270348Z",
          "iopub.status.busy": "2022-01-07T18:50:40.269271Z",
          "iopub.status.idle": "2022-01-07T18:50:40.284984Z",
          "shell.execute_reply": "2022-01-07T18:50:40.283928Z",
          "shell.execute_reply.started": "2022-01-07T18:50:40.270299Z"
        },
        "id": "YE2FzrzAQEKZ",
        "outputId": "4f36dd5f-4002-4ab2-e9ae-7dbdb6b3a6bb",
        "trusted": true
      },
      "outputs": [
        {
          "data": {
            "text/plain": [
              "hypertension       int64\n",
              "heart_disease      int64\n",
              "ever_married      object\n",
              "Residence_type    object\n",
              "stroke             int64\n",
              "dtype: object"
            ]
          },
          "execution_count": 16,
          "metadata": {},
          "output_type": "execute_result"
        }
      ],
      "source": [
        "df[binary_vals].dtypes # Check the datatypes in case if needed to be encoded"
      ]
    },
    {
      "cell_type": "code",
      "execution_count": null,
      "metadata": {
        "colab": {
          "base_uri": "https://localhost:8080/"
        },
        "execution": {
          "iopub.execute_input": "2022-01-07T18:50:40.289086Z",
          "iopub.status.busy": "2022-01-07T18:50:40.288511Z",
          "iopub.status.idle": "2022-01-07T18:50:40.297096Z",
          "shell.execute_reply": "2022-01-07T18:50:40.296278Z",
          "shell.execute_reply.started": "2022-01-07T18:50:40.289045Z"
        },
        "id": "6Wkh_3XcQYUu",
        "outputId": "b1f399bb-f1cb-4f4e-870b-3a283bb10b92",
        "trusted": true
      },
      "outputs": [
        {
          "data": {
            "text/plain": [
              "['gender', 'work_type', 'smoking_status']"
            ]
          },
          "execution_count": 17,
          "metadata": {},
          "output_type": "execute_result"
        }
      ],
      "source": [
        "categorical_vals  = list(df_uniques[(df_uniques > 2) & (df_uniques <=6)].index)\n",
        "categorical_vals"
      ]
    },
    {
      "cell_type": "code",
      "execution_count": null,
      "metadata": {
        "colab": {
          "base_uri": "https://localhost:8080/"
        },
        "execution": {
          "iopub.execute_input": "2022-01-07T18:50:40.299474Z",
          "iopub.status.busy": "2022-01-07T18:50:40.298461Z",
          "iopub.status.idle": "2022-01-07T18:50:40.31324Z",
          "shell.execute_reply": "2022-01-07T18:50:40.312227Z",
          "shell.execute_reply.started": "2022-01-07T18:50:40.29943Z"
        },
        "id": "-jMf-3TZQt1z",
        "outputId": "480b09c2-43f5-4b01-8550-e3f64872c00c",
        "trusted": true
      },
      "outputs": [
        {
          "data": {
            "text/plain": [
              "[['gender', ['Male', 'Female', 'Other']],\n",
              " ['work_type',\n",
              "  ['Private', 'Self-employed', 'Govt_job', 'children', 'Never_worked']],\n",
              " ['smoking_status', ['formerly smoked', 'never smoked', 'smokes', 'Unknown']]]"
            ]
          },
          "execution_count": 18,
          "metadata": {},
          "output_type": "execute_result"
        }
      ],
      "source": [
        "[[i, list(df[i].unique())] for i in categorical_vals]  # Ordering for endcoding."
      ]
    },
    {
      "cell_type": "code",
      "execution_count": null,
      "metadata": {
        "colab": {
          "base_uri": "https://localhost:8080/"
        },
        "execution": {
          "iopub.execute_input": "2022-01-07T18:50:40.316043Z",
          "iopub.status.busy": "2022-01-07T18:50:40.315535Z",
          "iopub.status.idle": "2022-01-07T18:50:40.323775Z",
          "shell.execute_reply": "2022-01-07T18:50:40.322909Z",
          "shell.execute_reply.started": "2022-01-07T18:50:40.315999Z"
        },
        "id": "pT5exNw4RfYi",
        "outputId": "1df9d17a-9183-4e69-9030-777ac2dd8a72",
        "trusted": true
      },
      "outputs": [
        {
          "data": {
            "text/plain": [
              "['bmi', 'id', 'age', 'avg_glucose_level']"
            ]
          },
          "execution_count": 19,
          "metadata": {},
          "output_type": "execute_result"
        }
      ],
      "source": [
        "numaric_vals = list(set(df.columns) - set(categorical_vals)- set(binary_vals))\n",
        "# Extending the numaric values among cate_vals, dataframe columns and bin_values\n",
        "numaric_vals"
      ]
    },
    {
      "cell_type": "markdown",
      "metadata": {
        "id": "6P_PRO6SFt9M"
      },
      "source": [
        "**The Encoding process:**"
      ]
    },
    {
      "cell_type": "code",
      "execution_count": null,
      "metadata": {
        "execution": {
          "iopub.execute_input": "2022-01-07T18:50:40.370349Z",
          "iopub.status.busy": "2022-01-07T18:50:40.369927Z",
          "iopub.status.idle": "2022-01-07T18:50:40.374744Z",
          "shell.execute_reply": "2022-01-07T18:50:40.373731Z",
          "shell.execute_reply.started": "2022-01-07T18:50:40.370307Z"
        },
        "id": "whyBxF89SSNf",
        "trusted": true
      },
      "outputs": [],
      "source": [
        "lb, le, lo = LabelBinarizer(), LabelEncoder(), OrdinalEncoder()"
      ]
    },
    {
      "cell_type": "code",
      "execution_count": null,
      "metadata": {
        "execution": {
          "iopub.execute_input": "2022-01-07T18:50:40.377103Z",
          "iopub.status.busy": "2022-01-07T18:50:40.376332Z",
          "iopub.status.idle": "2022-01-07T18:50:40.393791Z",
          "shell.execute_reply": "2022-01-07T18:50:40.393064Z",
          "shell.execute_reply.started": "2022-01-07T18:50:40.377042Z"
        },
        "id": "7aPQOczySe3V",
        "trusted": true
      },
      "outputs": [],
      "source": [
        "for col in categorical_vals: \n",
        "  df[col] = le.fit_transform(df[col])"
      ]
    },
    {
      "cell_type": "code",
      "execution_count": null,
      "metadata": {
        "execution": {
          "iopub.execute_input": "2022-01-07T18:50:40.396032Z",
          "iopub.status.busy": "2022-01-07T18:50:40.395215Z",
          "iopub.status.idle": "2022-01-07T18:50:40.45318Z",
          "shell.execute_reply": "2022-01-07T18:50:40.451915Z",
          "shell.execute_reply.started": "2022-01-07T18:50:40.395985Z"
        },
        "id": "6H6WV0aIzbeD",
        "trusted": true
      },
      "outputs": [],
      "source": [
        "for col in binary_vals:\n",
        "  df[col] = lb.fit_transform(df[col])"
      ]
    },
    {
      "cell_type": "code",
      "execution_count": null,
      "metadata": {
        "colab": {
          "base_uri": "https://localhost:8080/"
        },
        "execution": {
          "iopub.execute_input": "2022-01-07T18:50:40.474449Z",
          "iopub.status.busy": "2022-01-07T18:50:40.473867Z",
          "iopub.status.idle": "2022-01-07T18:50:40.486488Z",
          "shell.execute_reply": "2022-01-07T18:50:40.485587Z",
          "shell.execute_reply.started": "2022-01-07T18:50:40.474406Z"
        },
        "id": "gCrXcj60WSAs",
        "outputId": "6e804ebc-867d-4279-eebb-1cda6cf97207",
        "trusted": true
      },
      "outputs": [
        {
          "data": {
            "text/plain": [
              "0    4700\n",
              "1     209\n",
              "Name: stroke, dtype: int64"
            ]
          },
          "execution_count": 23,
          "metadata": {},
          "output_type": "execute_result"
        }
      ],
      "source": [
        "df.stroke.value_counts() \n",
        "# Return a Series containing counts of values in our Y (target) after encoding ,\n",
        "# 1 refers to have Stroke & 0 refers to don't have Stroke"
      ]
    },
    {
      "cell_type": "markdown",
      "metadata": {
        "id": "WmZvun1TCWmJ"
      },
      "source": [
        "## Separate feature and target variable"
      ]
    },
    {
      "cell_type": "code",
      "execution_count": null,
      "metadata": {
        "id": "IpsNuST4qmnN",
        "trusted": true
      },
      "outputs": [],
      "source": [
        "X = df.drop([\"stroke\", \"id\"], axis = 1)\n",
        "y = df['stroke']"
      ]
    },
    {
      "cell_type": "markdown",
      "metadata": {
        "id": "YX24DcocCb2V"
      },
      "source": [
        "* Normalize feature variables"
      ]
    },
    {
      "cell_type": "code",
      "execution_count": null,
      "metadata": {
        "id": "h0MXGTq0qmnN",
        "trusted": true
      },
      "outputs": [],
      "source": [
        "X_features = X\n",
        "X = StandardScaler().fit_transform(X)"
      ]
    },
    {
      "cell_type": "markdown",
      "metadata": {
        "id": "B1aTecJjCemI"
      },
      "source": [
        "* Splitting the data"
      ]
    },
    {
      "cell_type": "code",
      "execution_count": null,
      "metadata": {
        "id": "Kw1gyecDqmnN",
        "trusted": true
      },
      "outputs": [],
      "source": [
        "X_train, X_test, y_train, y_test = train_test_split(X, y, test_size=1000, random_state=42)"
      ]
    },
    {
      "cell_type": "markdown",
      "metadata": {
        "id": "RvUQHKaumoFB"
      },
      "source": [
        "# Applying Algorithms to models"
      ]
    },
    {
      "cell_type": "code",
      "execution_count": null,
      "metadata": {
        "id": "x2z8cT--p9JE"
      },
      "outputs": [],
      "source": [
        "# Create a Decision Tree Classifier\n",
        "model1 = DecisionTreeClassifier()\n",
        "\n",
        "# Train the classifier\n",
        "model1.fit(X_train, y_train)\n",
        "\n",
        "# Make predictions on the test set\n",
        "y_pred1 = model1.predict(X_test)\n"
      ]
    },
    {
      "cell_type": "code",
      "execution_count": null,
      "metadata": {
        "id": "s7cGlk66p9np"
      },
      "outputs": [],
      "source": [
        "# Create a KNN Classifier\n",
        "model2 = KNeighborsClassifier(n_neighbors=5)\n",
        "\n",
        "# Train the classifier\n",
        "model2.fit(X_train, y_train)\n",
        "\n",
        "# Make predictions on the test set\n",
        "y_pred2 = model2.predict(X_test)"
      ]
    },
    {
      "cell_type": "markdown",
      "metadata": {
        "id": "qdA6NkV2zSEc"
      },
      "source": [
        "# Results Evaluation and Visualization."
      ]
    },
    {
      "cell_type": "code",
      "execution_count": null,
      "metadata": {
        "colab": {
          "base_uri": "https://localhost:8080/"
        },
        "id": "YVrYlRHgqmnP",
        "outputId": "fb34ef2a-2c33-4c9b-d552-7666519669f4",
        "trusted": true
      },
      "outputs": [
        {
          "data": {
            "text/plain": [
              "<Axes: >"
            ]
          },
          "execution_count": 29,
          "metadata": {},
          "output_type": "execute_result"
        },
        {
          "data": {
            "image/png": "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",
            "text/plain": [
              "<Figure size 800x800 with 1 Axes>"
            ]
          },
          "metadata": {},
          "output_type": "display_data"
        }
      ],
      "source": [
        "# Feature Importance using Decision Tree\n",
        "feat_importances = pd.Series(model1.feature_importances_, index=X_features.columns)\n",
        "feat_importances.nlargest(25).plot(kind='barh',figsize=(8,8), color=(1.0, 0.7, 0.0, 0.5), edgecolor='red')"
      ]
    },
    {
      "cell_type": "markdown",
      "metadata": {
        "id": "qFdoFfprCluI"
      },
      "source": [
        "MSE, MAE and R2 Score/Accuracy of the models."
      ]
    },
    {
      "cell_type": "code",
      "execution_count": null,
      "metadata": {
        "colab": {
          "base_uri": "https://localhost:8080/"
        },
        "id": "upMzH0i390Mz",
        "outputId": "acb98d79-df39-4b7d-d612-dac2a2e1bfd7"
      },
      "outputs": [
        {
          "name": "stdout",
          "output_type": "stream",
          "text": [
            "Classification report: \n",
            "               precision    recall  f1-score   support\n",
            "\n",
            "           0       0.95      0.97      0.96       946\n",
            "           1       0.20      0.15      0.17        54\n",
            "\n",
            "    accuracy                           0.92      1000\n",
            "   macro avg       0.58      0.56      0.56      1000\n",
            "weighted avg       0.91      0.92      0.92      1000\n",
            " \n",
            "\n",
            "Accuracy score: \n",
            " 0.922 \n",
            "\n",
            "Confusion matrix: \n",
            " [[914  32]\n",
            " [ 46   8]]\n"
          ]
        }
      ],
      "source": [
        "# Model 1: DecisionTreeClassifier\n",
        "\n",
        "print(\"Classification report: \\n\", classification_report(y_test, y_pred1), \"\\n\")\n",
        "print(\"Accuracy score: \\n\", accuracy_score(y_test, y_pred1), \"\\n\")\n",
        "print(\"Confusion matrix: \\n\", confusion_matrix(y_test, y_pred1))"
      ]
    },
    {
      "cell_type": "code",
      "execution_count": null,
      "metadata": {
        "colab": {
          "base_uri": "https://localhost:8080/"
        },
        "id": "nfNcu2L_-C6d",
        "outputId": "42db3266-a0f8-498f-cfc2-1bd4bfacb1d6"
      },
      "outputs": [
        {
          "name": "stdout",
          "output_type": "stream",
          "text": [
            "Classification report: \n",
            "               precision    recall  f1-score   support\n",
            "\n",
            "           0       0.95      1.00      0.97       946\n",
            "           1       0.00      0.00      0.00        54\n",
            "\n",
            "    accuracy                           0.94      1000\n",
            "   macro avg       0.47      0.50      0.49      1000\n",
            "weighted avg       0.89      0.94      0.92      1000\n",
            " \n",
            "\n",
            "Accuracy score: \n",
            " 0.943 \n",
            "\n",
            "Confusion matrix: \n",
            " [[943   3]\n",
            " [ 54   0]]\n"
          ]
        }
      ],
      "source": [
        "# Model 2: KNNClassifier\n",
        "\n",
        "print(\"Classification report: \\n\", classification_report(y_test, y_pred2), \"\\n\")\n",
        "print(\"Accuracy score: \\n\", accuracy_score(y_test, y_pred2), \"\\n\")\n",
        "print(\"Confusion matrix: \\n\", confusion_matrix(y_test, y_pred2))"
      ]
    }
  ],
  "metadata": {
    "colab": {
      "provenance": []
    },
    "kernelspec": {
      "display_name": "Python 3",
      "language": "python",
      "name": "python3"
    },
    "language_info": {
      "codemirror_mode": {
        "name": "ipython",
        "version": 3
      },
      "file_extension": ".py",
      "mimetype": "text/x-python",
      "name": "python",
      "nbconvert_exporter": "python",
      "pygments_lexer": "ipython3",
      "version": "3.7.6"
    }
  },
  "nbformat": 4,
  "nbformat_minor": 0
}
